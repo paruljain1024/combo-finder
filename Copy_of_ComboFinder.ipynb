{
  "nbformat": 4,
  "nbformat_minor": 0,
  "metadata": {
    "colab": {
      "provenance": [],
      "include_colab_link": true
    },
    "kernelspec": {
      "display_name": "Python 3",
      "language": "python",
      "name": "python3"
    },
    "language_info": {
      "codemirror_mode": {
        "name": "ipython",
        "version": 3
      },
      "file_extension": ".py",
      "mimetype": "text/x-python",
      "name": "python",
      "nbconvert_exporter": "python",
      "pygments_lexer": "ipython3",
      "version": "3.8.5"
    }
  },
  "cells": [
    {
      "cell_type": "markdown",
      "metadata": {
        "id": "view-in-github",
        "colab_type": "text"
      },
      "source": [
        "<a href=\"https://colab.research.google.com/github/paruljain1024/combo-finder/blob/main/Copy_of_ComboFinder.ipynb\" target=\"_parent\"><img src=\"https://colab.research.google.com/assets/colab-badge.svg\" alt=\"Open In Colab\"/></a>"
      ]
    },
    {
      "cell_type": "markdown",
      "metadata": {
        "id": "7nQSRI4Dim1Y"
      },
      "source": [
        "  ---\n",
        "# **ComboFinder**\n",
        "---\n",
        "####**Problem Statement:**\n",
        "Find all the list of products whose sum-of-price is between 290 and 310.\n",
        "\n",
        "ProductList = {p1:10, p2:15, p3:20, p4:25, p5:30, p6:35, p7:50}\n",
        "\n",
        "---"
      ]
    },
    {
      "cell_type": "markdown",
      "metadata": {
        "id": "A30y-VtNim1h"
      },
      "source": [
        "### **1 Library inclusion**"
      ]
    },
    {
      "cell_type": "code",
      "metadata": {
        "id": "cF_mSA9Xim1j"
      },
      "source": [
        "import random as r"
      ],
      "execution_count": null,
      "outputs": []
    },
    {
      "cell_type": "markdown",
      "metadata": {
        "id": "UjvBYy0Lim1m"
      },
      "source": [
        "### **2 Parameter Setting**\n",
        "Read the productId-price file and convert to dictionary"
      ]
    },
    {
      "cell_type": "code",
      "metadata": {
        "id": "NHB2KMhZim1o"
      },
      "source": [
        "ProductList = {'p1':10, 'p2':15, 'p3':20, 'p4':25, 'p5':30, 'p6':35, 'p7':50,\n",
        "               'p8':40, 'p9':55, 'p10':60, 'p11':65, 'p12':75, 'p13':70,\n",
        "               'p14':45}\n",
        "LB          = 290\n",
        "UB          = 310\n",
        "ResultList  = set()   # Store Result List i.e. list of sets whose sum is between 90 and 210.\n",
        "Iterations  = 1000    # Number of Inerations"
      ],
      "execution_count": null,
      "outputs": []
    },
    {
      "cell_type": "markdown",
      "metadata": {
        "id": "BTLd3s--im1c"
      },
      "source": [
        "### **Single Run**\n",
        "\n",
        "\n"
      ]
    },
    {
      "cell_type": "code",
      "metadata": {
        "id": "veBU-f21im1x",
        "colab": {
          "base_uri": "https://localhost:8080/"
        },
        "outputId": "e9ef0dc1-1d89-4d7d-88d2-9f962fc8a48d"
      },
      "source": [
        "# Select combo size (i.e. number of products in a combo)\n",
        "SetSize = r.randint(2, len(ProductList)-1)\n",
        "print(\"Number of Product: \", SetSize)\n",
        "\n",
        "\n",
        "# Select number of elements from Set\n",
        "ComboList = r.sample(list(ProductList.keys()),SetSize)\n",
        "print(\"Product List     : \", ComboList)\n",
        "\n",
        "\n",
        "# Sum the products in ColboList\n",
        "ComboSum = sum([ ProductList[i] for i in ComboList])\n",
        "print(\"Sum of Product   : \", ComboSum)\n"
      ],
      "execution_count": null,
      "outputs": [
        {
          "output_type": "stream",
          "name": "stdout",
          "text": [
            "Number of Product:  4\n",
            "Product List     :  ['p1', 'p7', 'p3', 'p11']\n",
            "Sum of Product   :  145\n"
          ]
        }
      ]
    },
    {
      "cell_type": "markdown",
      "metadata": {
        "id": "ts8ALfd7NuIh"
      },
      "source": [
        "### **3 Start Program**\n",
        "\n",
        "\n"
      ]
    },
    {
      "cell_type": "code",
      "metadata": {
        "colab": {
          "base_uri": "https://localhost:8080/",
          "height": 211
        },
        "id": "34JF9pZPNuIj",
        "outputId": "4976aff8-e990-4e2d-ac5e-07356d75f310"
      },
      "source": [
        "# Loop till number of Iterations\n",
        "ResultList  = set()\n",
        "\n",
        "for i in range(Iterations):\n",
        "\n",
        "    # Select combo size (i.e. number of products in a combo)\n",
        "    SetSize = r.randint(2, len(ProductList)-1)\n",
        "\n",
        "    # Select number of elements from Set\n",
        "    ComboList = r.sample(list(ProductList.keys()),SetSize)\n",
        "\n",
        "    # Sum the products in ColboList\n",
        "    ComboSum = sum([ ProductList[i] for i in ComboList])\n",
        "\n",
        "    # Check the Sum Between LB and UB\n",
        "    if ComboSum>= LB and ComboSum<= UB:\n",
        "      ResultList.add(tuple(ComboList))\n",
        "\n",
        "print(\"Done\")"
      ],
      "execution_count": null,
      "outputs": [
        {
          "output_type": "error",
          "ename": "NameError",
          "evalue": "name 'Iterations' is not defined",
          "traceback": [
            "\u001b[0;31m---------------------------------------------------------------------------\u001b[0m",
            "\u001b[0;31mNameError\u001b[0m                                 Traceback (most recent call last)",
            "\u001b[0;32m<ipython-input-1-6e47177135ea>\u001b[0m in \u001b[0;36m<cell line: 4>\u001b[0;34m()\u001b[0m\n\u001b[1;32m      2\u001b[0m \u001b[0mResultList\u001b[0m  \u001b[0;34m=\u001b[0m \u001b[0mset\u001b[0m\u001b[0;34m(\u001b[0m\u001b[0;34m)\u001b[0m\u001b[0;34m\u001b[0m\u001b[0;34m\u001b[0m\u001b[0m\n\u001b[1;32m      3\u001b[0m \u001b[0;34m\u001b[0m\u001b[0m\n\u001b[0;32m----> 4\u001b[0;31m \u001b[0;32mfor\u001b[0m \u001b[0mi\u001b[0m \u001b[0;32min\u001b[0m \u001b[0mrange\u001b[0m\u001b[0;34m(\u001b[0m\u001b[0mIterations\u001b[0m\u001b[0;34m)\u001b[0m\u001b[0;34m:\u001b[0m\u001b[0;34m\u001b[0m\u001b[0;34m\u001b[0m\u001b[0m\n\u001b[0m\u001b[1;32m      5\u001b[0m \u001b[0;34m\u001b[0m\u001b[0m\n\u001b[1;32m      6\u001b[0m     \u001b[0;31m# Select combo size (i.e. number of products in a combo)\u001b[0m\u001b[0;34m\u001b[0m\u001b[0;34m\u001b[0m\u001b[0m\n",
            "\u001b[0;31mNameError\u001b[0m: name 'Iterations' is not defined"
          ]
        }
      ]
    },
    {
      "cell_type": "markdown",
      "metadata": {
        "id": "nRWYsJNVim1z"
      },
      "source": [
        "### **4 Print the comboLists and total count**\n"
      ]
    },
    {
      "cell_type": "code",
      "metadata": {
        "colab": {
          "base_uri": "https://localhost:8080/"
        },
        "id": "41abL1k-im10",
        "scrolled": true,
        "outputId": "8f69592d-2b84-4ef9-c1b5-3e56fb3846f6"
      },
      "source": [
        "# Print all the sets whose sum is between LB and UB\n",
        "for r in ResultList:\n",
        "\tprint (r)\n",
        "\n",
        "# Print total sets\n",
        "print (\"\\nTotal Sets: \", len(ResultList), \"\\n\")"
      ],
      "execution_count": null,
      "outputs": [
        {
          "output_type": "stream",
          "name": "stdout",
          "text": [
            "\n",
            "Total Sets:  0 \n",
            "\n"
          ]
        }
      ]
    },
    {
      "cell_type": "markdown",
      "metadata": {
        "id": "stxrIcZtk4LT"
      },
      "source": [
        "---\n",
        "### **5 Complete Program with sorting**\n",
        "---"
      ]
    },
    {
      "cell_type": "code",
      "metadata": {
        "colab": {
          "base_uri": "https://localhost:8080/"
        },
        "outputId": "43868ae9-e19e-499b-f60c-afd8012fc40d",
        "id": "zzblepy0k4LU"
      },
      "source": [
        "#-------------------------------------------------------------\n",
        "# Step 1: Library inclusion\n",
        "#-------------------------------------------------------------\n",
        "import random as r\n",
        "\n",
        "\n",
        "#-------------------------------------------------------------\n",
        "# Step 2: Parameter Setting\n",
        "#-------------------------------------------------------------\n",
        "ProductList = {'p1':10, 'p2':15, 'p3':20, 'p4':25, 'p5':30, 'p6':35, 'p7':50,\n",
        "               'p8':40, 'p9':55, 'p10':60, 'p11':65, 'p12':75, 'p13':70,\n",
        "               'p14':45}\n",
        "LB          = 290\n",
        "UB          = 310\n",
        "ResultList  = set()   # Store Result List i.e. list of sets whose sum is between 90 and 210.\n",
        "Iterations  = 1000    # Number of Inerations\n",
        "\n",
        "\n",
        "#-------------------------------------------------------------\n",
        "# Step3: Start Program\n",
        "#-------------------------------------------------------------\n",
        "for i in range(Iterations):\n",
        "\n",
        "    # Select combo size (i.e. number of products in a combo)\n",
        "    SetSize = r.randint(2, len(ProductList)-1)\n",
        "\n",
        "    # Select number of elements from Set\n",
        "    ComboList = r.sample(list(ProductList.keys()),SetSize)\n",
        "    ComboList.sort()\n",
        "\n",
        "    # Sum the products in ColboList\n",
        "    ComboSum = sum([ ProductList[i] for i in ComboList])\n",
        "\n",
        "    # Check the Sum Between LB and UB\n",
        "    if ComboSum>= LB and ComboSum<= UB:\n",
        "      ResultList.add(tuple(ComboList))\n",
        "\n",
        "\n",
        "# Print all the sets whose sum is between LB and UB\n",
        "for r in ResultList:\n",
        "\tprint (r)\n",
        "\n",
        "# Print total sets\n",
        "print (\"\\nTotal Sets: \", len(ResultList), \"\\n\")\n"
      ],
      "execution_count": null,
      "outputs": [
        {
          "output_type": "stream",
          "name": "stdout",
          "text": [
            "('p1', 'p12', 'p14', 'p2', 'p4', 'p5', 'p7', 'p8')\n",
            "('p11', 'p12', 'p2', 'p3', 'p5', 'p8', 'p9')\n",
            "('p12', 'p14', 'p2', 'p3', 'p4', 'p5', 'p6', 'p7')\n",
            "('p1', 'p11', 'p13', 'p14', 'p2', 'p4', 'p5', 'p8')\n",
            "('p1', 'p11', 'p12', 'p14', 'p2', 'p4', 'p5', 'p6')\n",
            "('p1', 'p12', 'p13', 'p2', 'p3', 'p5', 'p6', 'p8')\n",
            "('p1', 'p10', 'p11', 'p14', 'p3', 'p5', 'p6', 'p8')\n",
            "('p12', 'p14', 'p2', 'p5', 'p7', 'p8', 'p9')\n",
            "('p1', 'p10', 'p13', 'p2', 'p3', 'p5', 'p7', 'p9')\n",
            "('p11', 'p12', 'p13', 'p2', 'p3', 'p7')\n",
            "('p1', 'p12', 'p13', 'p14', 'p3', 'p6', 'p9')\n",
            "('p12', 'p13', 'p14', 'p2', 'p6', 'p7')\n",
            "('p1', 'p10', 'p12', 'p14', 'p4', 'p5', 'p7')\n",
            "('p1', 'p12', 'p14', 'p3', 'p4', 'p5', 'p7', 'p8')\n",
            "('p1', 'p10', 'p13', 'p14', 'p2', 'p7', 'p9')\n",
            "('p1', 'p10', 'p12', 'p2', 'p5', 'p7', 'p9')\n",
            "('p10', 'p13', 'p3', 'p4', 'p5', 'p6', 'p9')\n",
            "('p11', 'p14', 'p2', 'p3', 'p5', 'p6', 'p8', 'p9')\n",
            "('p12', 'p3', 'p4', 'p5', 'p7', 'p8', 'p9')\n",
            "('p1', 'p11', 'p13', 'p3', 'p6', 'p7', 'p8')\n",
            "('p1', 'p10', 'p11', 'p14', 'p5', 'p8', 'p9')\n",
            "('p1', 'p11', 'p12', 'p2', 'p5', 'p7', 'p9')\n",
            "('p10', 'p11', 'p12', 'p14', 'p4', 'p5')\n",
            "('p10', 'p12', 'p13', 'p2', 'p6', 'p7')\n",
            "('p1', 'p10', 'p11', 'p13', 'p3', 'p4', 'p7')\n",
            "('p10', 'p11', 'p13', 'p8', 'p9')\n",
            "('p10', 'p11', 'p12', 'p2', 'p6', 'p8')\n",
            "('p11', 'p13', 'p2', 'p5', 'p6', 'p8', 'p9')\n",
            "('p1', 'p11', 'p13', 'p14', 'p5', 'p6', 'p8')\n",
            "('p13', 'p14', 'p6', 'p7', 'p8', 'p9')\n",
            "('p1', 'p10', 'p13', 'p2', 'p3', 'p4', 'p7', 'p8')\n",
            "('p12', 'p14', 'p2', 'p4', 'p6', 'p7', 'p9')\n",
            "('p10', 'p13', 'p2', 'p3', 'p4', 'p5', 'p6', 'p9')\n",
            "('p11', 'p13', 'p14', 'p2', 'p3', 'p5', 'p9')\n",
            "('p12', 'p14', 'p2', 'p5', 'p6', 'p7', 'p8')\n",
            "('p10', 'p11', 'p6', 'p7', 'p8', 'p9')\n",
            "('p1', 'p10', 'p12', 'p13', 'p2', 'p3', 'p4', 'p5')\n",
            "('p1', 'p10', 'p11', 'p13', 'p2', 'p4', 'p5', 'p6')\n",
            "('p10', 'p11', 'p12', 'p2', 'p3', 'p4', 'p5')\n",
            "('p11', 'p14', 'p3', 'p4', 'p7', 'p8', 'p9')\n",
            "('p11', 'p12', 'p13', 'p2', 'p3', 'p5', 'p6')\n",
            "('p1', 'p10', 'p11', 'p13', 'p2', 'p3', 'p4', 'p6')\n",
            "('p10', 'p11', 'p12', 'p14', 'p7')\n",
            "\n",
            "Total Sets:  43 \n",
            "\n"
          ]
        }
      ]
    }
  ]
}